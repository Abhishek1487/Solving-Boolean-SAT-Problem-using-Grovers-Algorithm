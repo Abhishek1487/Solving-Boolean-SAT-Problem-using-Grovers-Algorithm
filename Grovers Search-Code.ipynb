{
 "cells": [
  {
   "cell_type": "code",
   "execution_count": 1,
   "id": "7edf3970",
   "metadata": {},
   "outputs": [],
   "source": [
    "#initialization\n",
    "import numpy as np\n",
    "\n",
    "# importing Qiskit\n",
    "from qiskit import *\n",
    "from qiskit.circuit.library.standard_gates.x import XGate, MCXGate\n",
    "\n",
    "# import basic plot tools\n",
    "from qiskit.tools.visualization import plot_histogram"
   ]
  },
  {
   "cell_type": "code",
   "execution_count": 2,
   "id": "8f96db42",
   "metadata": {},
   "outputs": [
    {
     "data": {
      "text/html": [
       "<pre style=\"word-wrap: normal;white-space: pre;background: #fff0;line-height: 1.1;font-family: &quot;Courier New&quot;,Courier,monospace\">                                             \n",
       "q_0: ────────────■──────────────■────────────\n",
       "                 │              │            \n",
       "q_1: ────────────■──────────────■────────────\n",
       "     ┌───┐┌───┐┌─┴─┐┌───┐┌───┐  │            \n",
       "q_2: ┤ X ├┤ H ├┤ X ├┤ H ├┤ X ├──■────────────\n",
       "     └───┘└───┘└───┘└───┘└───┘  │            \n",
       "q_3: ───────────────────────────■────────────\n",
       "     ┌───┐┌───┐               ┌─┴─┐┌───┐┌───┐\n",
       "q_4: ┤ X ├┤ H ├───────────────┤ X ├┤ H ├┤ X ├\n",
       "     └───┘└───┘               └───┘└───┘└───┘</pre>"
      ],
      "text/plain": [
       "                                             \n",
       "q_0: ────────────■──────────────■────────────\n",
       "                 │              │            \n",
       "q_1: ────────────■──────────────■────────────\n",
       "     ┌───┐┌───┐┌─┴─┐┌───┐┌───┐  │            \n",
       "q_2: ┤ X ├┤ H ├┤ X ├┤ H ├┤ X ├──■────────────\n",
       "     └───┘└───┘└───┘└───┘└───┘  │            \n",
       "q_3: ───────────────────────────■────────────\n",
       "     ┌───┐┌───┐               ┌─┴─┐┌───┐┌───┐\n",
       "q_4: ┤ X ├┤ H ├───────────────┤ X ├┤ H ├┤ X ├\n",
       "     └───┘└───┘               └───┘└───┘└───┘"
      ]
     },
     "execution_count": 2,
     "metadata": {},
     "output_type": "execute_result"
    }
   ],
   "source": [
    "# making oracle circuit\n",
    "oracle=QuantumCircuit(5,name=\"Oracle\")\n",
    "\n",
    "# multi-controlled x gate (2 control bits)\n",
    "gate_two=MCXGate(2)\n",
    "#multi-controlled x gate (4 control bits)\n",
    "gate_four=MCXGate(4)\n",
    "\n",
    "# Applying x gate on q2\n",
    "oracle.x(2)\n",
    "# Applying controlled z gate (control qbits-q0,q1  target- q2)\n",
    "oracle.h(2)\n",
    "oracle.append(gate_two,[0,1,2])\n",
    "oracle.h(2)\n",
    "# Applying x gate on q2\n",
    "oracle.x(2)\n",
    "\n",
    "# Applying x gate on q4\n",
    "oracle.x(4)\n",
    "# Applying controlled z gate (control qbits- q0,q1,q2,q3  target- q4)\n",
    "oracle.h(4)\n",
    "oracle.append(gate_four,[0,1,2,3,4])\n",
    "oracle.h(4)\n",
    "# Applying x gate on q4\n",
    "oracle.x(4)\n",
    "\n",
    "\n",
    "oracle.to_gate()\n",
    "oracle.draw()\n",
    "\n"
   ]
  },
  {
   "cell_type": "code",
   "execution_count": 3,
   "id": "cf64f7c3",
   "metadata": {
    "scrolled": false
   },
   "outputs": [
    {
     "data": {
      "text/html": [
       "<pre style=\"word-wrap: normal;white-space: pre;background: #fff0;line-height: 1.1;font-family: &quot;Courier New&quot;,Courier,monospace\">      ┌───┐┌─────────┐\n",
       "q0_0: ┤ H ├┤0        ├\n",
       "      ├───┤│         │\n",
       "q0_1: ┤ H ├┤1        ├\n",
       "      ├───┤│         │\n",
       "q0_2: ┤ H ├┤2 Oracle ├\n",
       "      ├───┤│         │\n",
       "q0_3: ┤ H ├┤3        ├\n",
       "      ├───┤│         │\n",
       "q0_4: ┤ H ├┤4        ├\n",
       "      └───┘└─────────┘\n",
       "c0: 5/════════════════\n",
       "                      </pre>"
      ],
      "text/plain": [
       "      ┌───┐┌─────────┐\n",
       "q0_0: ┤ H ├┤0        ├\n",
       "      ├───┤│         │\n",
       "q0_1: ┤ H ├┤1        ├\n",
       "      ├───┤│         │\n",
       "q0_2: ┤ H ├┤2 Oracle ├\n",
       "      ├───┤│         │\n",
       "q0_3: ┤ H ├┤3        ├\n",
       "      ├───┤│         │\n",
       "q0_4: ┤ H ├┤4        ├\n",
       "      └───┘└─────────┘\n",
       "c0: 5/════════════════\n",
       "                      "
      ]
     },
     "execution_count": 3,
     "metadata": {},
     "output_type": "execute_result"
    }
   ],
   "source": [
    "# Initializing grovers circuit\n",
    "qr=QuantumRegister(5)\n",
    "cr=ClassicalRegister(5)\n",
    "grover_circ=QuantumCircuit(qr,cr)\n",
    "\n",
    "# creating uniform superposition\n",
    "grover_circ.h(range(5))\n",
    "\n",
    "# Adding oracle to circuit\n",
    "grover_circ.append(oracle,[0,1,2,3,4])\n",
    "\n",
    "grover_circ.draw()"
   ]
  },
  {
   "cell_type": "code",
   "execution_count": 4,
   "id": "d96816a7",
   "metadata": {},
   "outputs": [
    {
     "name": "stdout",
     "output_type": "stream",
     "text": [
      "The StateVector is:\n",
      "[ 0.176777+0.j  0.176777+0.j  0.176777+0.j -0.176777+0.j  0.176777+0.j\n",
      "  0.176777+0.j  0.176777+0.j  0.176777+0.j  0.176777+0.j  0.176777+0.j\n",
      "  0.176777+0.j -0.176777+0.j  0.176777+0.j  0.176777+0.j  0.176777+0.j\n",
      " -0.176777+0.j  0.176777+0.j  0.176777+0.j  0.176777+0.j -0.176777+0.j\n",
      "  0.176777+0.j  0.176777+0.j  0.176777+0.j  0.176777+0.j  0.176777+0.j\n",
      "  0.176777+0.j  0.176777+0.j -0.176777+0.j  0.176777+0.j  0.176777+0.j\n",
      "  0.176777+0.j  0.176777+0.j]\n",
      "The probabilities of states:\n",
      "[0.03125 0.03125 0.03125 0.03125 0.03125 0.03125 0.03125 0.03125 0.03125\n",
      " 0.03125 0.03125 0.03125 0.03125 0.03125 0.03125 0.03125 0.03125 0.03125\n",
      " 0.03125 0.03125 0.03125 0.03125 0.03125 0.03125 0.03125 0.03125 0.03125\n",
      " 0.03125 0.03125 0.03125 0.03125 0.03125]\n"
     ]
    }
   ],
   "source": [
    "# testing oracle using statevector simulator\n",
    "backend=Aer.get_backend('statevector_simulator')\n",
    "job=execute(grover_circ,backend)\n",
    "result=job.result()\n",
    "sv=result.get_statevector()\n",
    "\n",
    "# winner states have a -ve phase\n",
    "print(\"The StateVector is:\")\n",
    "print(np.around(sv,6))\n",
    "\n",
    "# probablities of all states are equal\n",
    "print(\"The probabilities of states:\")\n",
    "print(sv.probabilities())"
   ]
  },
  {
   "cell_type": "code",
   "execution_count": 5,
   "id": "f7991f9e",
   "metadata": {},
   "outputs": [
    {
     "data": {
      "text/html": [
       "<pre style=\"word-wrap: normal;white-space: pre;background: #fff0;line-height: 1.1;font-family: &quot;Courier New&quot;,Courier,monospace\">     ┌───┐┌───┐          ┌───┐┌───┐     \n",
       "q_0: ┤ H ├┤ X ├───────■──┤ X ├┤ H ├─────\n",
       "     ├───┤├───┤       │  ├───┤├───┤     \n",
       "q_1: ┤ H ├┤ X ├───────■──┤ X ├┤ H ├─────\n",
       "     ├───┤├───┤       │  ├───┤├───┤     \n",
       "q_2: ┤ H ├┤ X ├───────■──┤ X ├┤ H ├─────\n",
       "     ├───┤├───┤       │  ├───┤├───┤     \n",
       "q_3: ┤ H ├┤ X ├───────■──┤ X ├┤ H ├─────\n",
       "     ├───┤├───┤┌───┐┌─┴─┐├───┤├───┤┌───┐\n",
       "q_4: ┤ H ├┤ X ├┤ H ├┤ X ├┤ H ├┤ X ├┤ H ├\n",
       "     └───┘└───┘└───┘└───┘└───┘└───┘└───┘</pre>"
      ],
      "text/plain": [
       "     ┌───┐┌───┐          ┌───┐┌───┐     \n",
       "q_0: ┤ H ├┤ X ├───────■──┤ X ├┤ H ├─────\n",
       "     ├───┤├───┤       │  ├───┤├───┤     \n",
       "q_1: ┤ H ├┤ X ├───────■──┤ X ├┤ H ├─────\n",
       "     ├───┤├───┤       │  ├───┤├───┤     \n",
       "q_2: ┤ H ├┤ X ├───────■──┤ X ├┤ H ├─────\n",
       "     ├───┤├───┤       │  ├───┤├───┤     \n",
       "q_3: ┤ H ├┤ X ├───────■──┤ X ├┤ H ├─────\n",
       "     ├───┤├───┤┌───┐┌─┴─┐├───┤├───┤┌───┐\n",
       "q_4: ┤ H ├┤ X ├┤ H ├┤ X ├┤ H ├┤ X ├┤ H ├\n",
       "     └───┘└───┘└───┘└───┘└───┘└───┘└───┘"
      ]
     },
     "execution_count": 5,
     "metadata": {},
     "output_type": "execute_result"
    }
   ],
   "source": [
    "# Diffusion operator (U_s)\n",
    "diffuser=QuantumCircuit(5,name='Diffuser')\n",
    "\n",
    "# Applying transformation |s> -> |00..0> \n",
    "diffuser.h(range(5))\n",
    "\n",
    "# Applying transformation |00..0> -> |11..1>\n",
    "diffuser.x(range(5))\n",
    "\n",
    "# multi-controlled x gate \n",
    "Gate=MCXGate(4)\n",
    "\n",
    "#  Applying multi-controlled z gate (reflection about |11..1>)\n",
    "diffuser.h(4)\n",
    "diffuser.append(Gate,[0,1,2,3,4])   \n",
    "diffuser.h(4)\n",
    "\n",
    "# Applying transformation |11..1> -> |00..0>\n",
    "diffuser.x(range(5))\n",
    "\n",
    "# Applying transformation |00..0> -> |s>\n",
    "diffuser.h(range(5))\n",
    "\n",
    "diffuser.to_gate()\n",
    "diffuser.draw()"
   ]
  },
  {
   "cell_type": "code",
   "execution_count": 6,
   "id": "e627e0bb",
   "metadata": {},
   "outputs": [
    {
     "data": {
      "text/html": [
       "<pre style=\"word-wrap: normal;white-space: pre;background: #fff0;line-height: 1.1;font-family: &quot;Courier New&quot;,Courier,monospace\">      ┌───┐┌─────────┐┌───────────┐┌─────────┐┌───────────┐\n",
       "q0_0: ┤ H ├┤0        ├┤0          ├┤0        ├┤0          ├\n",
       "      ├───┤│         ││           ││         ││           │\n",
       "q0_1: ┤ H ├┤1        ├┤1          ├┤1        ├┤1          ├\n",
       "      ├───┤│         ││           ││         ││           │\n",
       "q0_2: ┤ H ├┤2 Oracle ├┤2 Diffuser ├┤2 Oracle ├┤2 Diffuser ├\n",
       "      ├───┤│         ││           ││         ││           │\n",
       "q0_3: ┤ H ├┤3        ├┤3          ├┤3        ├┤3          ├\n",
       "      ├───┤│         ││           ││         ││           │\n",
       "q0_4: ┤ H ├┤4        ├┤4          ├┤4        ├┤4          ├\n",
       "      └───┘└─────────┘└───────────┘└─────────┘└───────────┘\n",
       "c0: 5/═════════════════════════════════════════════════════\n",
       "                                                           </pre>"
      ],
      "text/plain": [
       "      ┌───┐┌─────────┐┌───────────┐┌─────────┐┌───────────┐\n",
       "q0_0: ┤ H ├┤0        ├┤0          ├┤0        ├┤0          ├\n",
       "      ├───┤│         ││           ││         ││           │\n",
       "q0_1: ┤ H ├┤1        ├┤1          ├┤1        ├┤1          ├\n",
       "      ├───┤│         ││           ││         ││           │\n",
       "q0_2: ┤ H ├┤2 Oracle ├┤2 Diffuser ├┤2 Oracle ├┤2 Diffuser ├\n",
       "      ├───┤│         ││           ││         ││           │\n",
       "q0_3: ┤ H ├┤3        ├┤3          ├┤3        ├┤3          ├\n",
       "      ├───┤│         ││           ││         ││           │\n",
       "q0_4: ┤ H ├┤4        ├┤4          ├┤4        ├┤4          ├\n",
       "      └───┘└─────────┘└───────────┘└─────────┘└───────────┘\n",
       "c0: 5/═════════════════════════════════════════════════════\n",
       "                                                           "
      ]
     },
     "execution_count": 6,
     "metadata": {},
     "output_type": "execute_result"
    }
   ],
   "source": [
    "# Adding diffuser to circuit\n",
    "grover_circ.append(diffuser,[0,1,2,3,4])\n",
    "\n",
    "# Applying Amplitude Modification one more times\n",
    "grover_circ.append(oracle,[0,1,2,3,4])\n",
    "grover_circ.append(diffuser,[0,1,2,3,4])\n",
    "\n",
    "grover_circ.draw()\n"
   ]
  },
  {
   "cell_type": "code",
   "execution_count": 7,
   "id": "d2cecf98",
   "metadata": {},
   "outputs": [
    {
     "name": "stdout",
     "output_type": "stream",
     "text": [
      "The StateVector is:\n",
      "[-0.085626-0.j -0.085626-0.j -0.085626-0.j  0.40051 +0.j -0.085626-0.j\n",
      " -0.085626-0.j -0.085626-0.j -0.085626-0.j -0.085626-0.j -0.085626-0.j\n",
      " -0.085626-0.j  0.40051 +0.j -0.085626-0.j -0.085626-0.j -0.085626-0.j\n",
      "  0.40051 +0.j -0.085626-0.j -0.085626-0.j -0.085626-0.j  0.40051 +0.j\n",
      " -0.085626-0.j -0.085626-0.j -0.085626-0.j -0.085626-0.j -0.085626-0.j\n",
      " -0.085626-0.j -0.085626-0.j  0.40051 +0.j -0.085626-0.j -0.085626-0.j\n",
      " -0.085626-0.j -0.085626-0.j]\n",
      "The probabilities of states:\n",
      "[0.00733185 0.00733185 0.00733185 0.16040802 0.00733185 0.00733185\n",
      " 0.00733185 0.00733185 0.00733185 0.00733185 0.00733185 0.16040802\n",
      " 0.00733185 0.00733185 0.00733185 0.16040802 0.00733185 0.00733185\n",
      " 0.00733185 0.16040802 0.00733185 0.00733185 0.00733185 0.00733185\n",
      " 0.00733185 0.00733185 0.00733185 0.16040802 0.00733185 0.00733185\n",
      " 0.00733185 0.00733185]\n"
     ]
    }
   ],
   "source": [
    "# testing our circuit using statevector simulator\n",
    "backend=Aer.get_backend('statevector_simulator')\n",
    "job=execute(grover_circ,backend)\n",
    "result=job.result()\n",
    "sv=result.get_statevector()\n",
    "\n",
    "print(\"The StateVector is:\")\n",
    "print(np.around(sv,6))\n",
    "\n",
    "# probablities of winner states increses\n",
    "print(\"The probabilities of states:\")\n",
    "print(sv.probabilities())"
   ]
  },
  {
   "cell_type": "code",
   "execution_count": 8,
   "id": "ed7c7e78",
   "metadata": {},
   "outputs": [
    {
     "data": {
      "text/html": [
       "<pre style=\"word-wrap: normal;white-space: pre;background: #fff0;line-height: 1.1;font-family: &quot;Courier New&quot;,Courier,monospace\">      ┌───┐┌─────────┐┌───────────┐┌─────────┐┌───────────┐┌─┐            \n",
       "q0_0: ┤ H ├┤0        ├┤0          ├┤0        ├┤0          ├┤M├────────────\n",
       "      ├───┤│         ││           ││         ││           │└╥┘┌─┐         \n",
       "q0_1: ┤ H ├┤1        ├┤1          ├┤1        ├┤1          ├─╫─┤M├─────────\n",
       "      ├───┤│         ││           ││         ││           │ ║ └╥┘┌─┐      \n",
       "q0_2: ┤ H ├┤2 Oracle ├┤2 Diffuser ├┤2 Oracle ├┤2 Diffuser ├─╫──╫─┤M├──────\n",
       "      ├───┤│         ││           ││         ││           │ ║  ║ └╥┘┌─┐   \n",
       "q0_3: ┤ H ├┤3        ├┤3          ├┤3        ├┤3          ├─╫──╫──╫─┤M├───\n",
       "      ├───┤│         ││           ││         ││           │ ║  ║  ║ └╥┘┌─┐\n",
       "q0_4: ┤ H ├┤4        ├┤4          ├┤4        ├┤4          ├─╫──╫──╫──╫─┤M├\n",
       "      └───┘└─────────┘└───────────┘└─────────┘└───────────┘ ║  ║  ║  ║ └╥┘\n",
       "c0: 5/══════════════════════════════════════════════════════╩══╩══╩══╩══╩═\n",
       "                                                            0  1  2  3  4 </pre>"
      ],
      "text/plain": [
       "      ┌───┐┌─────────┐┌───────────┐┌─────────┐┌───────────┐┌─┐            \n",
       "q0_0: ┤ H ├┤0        ├┤0          ├┤0        ├┤0          ├┤M├────────────\n",
       "      ├───┤│         ││           ││         ││           │└╥┘┌─┐         \n",
       "q0_1: ┤ H ├┤1        ├┤1          ├┤1        ├┤1          ├─╫─┤M├─────────\n",
       "      ├───┤│         ││           ││         ││           │ ║ └╥┘┌─┐      \n",
       "q0_2: ┤ H ├┤2 Oracle ├┤2 Diffuser ├┤2 Oracle ├┤2 Diffuser ├─╫──╫─┤M├──────\n",
       "      ├───┤│         ││           ││         ││           │ ║  ║ └╥┘┌─┐   \n",
       "q0_3: ┤ H ├┤3        ├┤3          ├┤3        ├┤3          ├─╫──╫──╫─┤M├───\n",
       "      ├───┤│         ││           ││         ││           │ ║  ║  ║ └╥┘┌─┐\n",
       "q0_4: ┤ H ├┤4        ├┤4          ├┤4        ├┤4          ├─╫──╫──╫──╫─┤M├\n",
       "      └───┘└─────────┘└───────────┘└─────────┘└───────────┘ ║  ║  ║  ║ └╥┘\n",
       "c0: 5/══════════════════════════════════════════════════════╩══╩══╩══╩══╩═\n",
       "                                                            0  1  2  3  4 "
      ]
     },
     "execution_count": 8,
     "metadata": {},
     "output_type": "execute_result"
    }
   ],
   "source": [
    "# measuring the qbits\n",
    "grover_circ.measure(qr,cr)\n",
    "\n",
    "# final circuit\n",
    "grover_circ.draw()"
   ]
  },
  {
   "cell_type": "code",
   "execution_count": 10,
   "id": "ce49131b",
   "metadata": {},
   "outputs": [
    {
     "data": {
      "image/png": "[encoded data removed]",
      "text/plain": [
       "<Figure size 504x360 with 1 Axes>"
      ]
     },
     "execution_count": 10,
     "metadata": {},
     "output_type": "execute_result"
    }
   ],
   "source": [
    "# simulating our circuit in a quantum simulator\n",
    "backend = BasicAer.get_backend('qasm_simulator')\n",
    "shots = 100\n",
    "\n",
    "results = execute(grover_circ, backend=backend, shots=shots).result()\n",
    "answer = results.get_counts()\n",
    "plot_histogram(answer)"
   ]
  },
  {
   "cell_type": "code",
   "execution_count": null,
   "id": "ec34ed27",
   "metadata": {},
   "outputs": [],
   "source": []
  }
 ],
 "metadata": {
  "kernelspec": {
   "display_name": "Python 3 (ipykernel)",
   "language": "python",
   "name": "python3"
  },
  "language_info": {
   "codemirror_mode": {
    "name": "ipython",
    "version": 3
   },
   "file_extension": ".py",
   "mimetype": "text/x-python",
   "name": "python",
   "nbconvert_exporter": "python",
   "pygments_lexer": "ipython3",
   "version": "3.9.7"
  }
 },
 "nbformat": 4,
 "nbformat_minor": 5
}
